{
 "cells": [
  {
   "cell_type": "markdown",
   "metadata": {},
   "source": [
    "### DSBD Project 2 Proposal\n",
    "### LendingClub Peer-to-Peer Lending Default Prediction\n",
    "#### Yunhan (Claire) Xu, Qiyang (Cathy) Chen"
   ]
  }
 ],
 "metadata": {
  "language_info": {
   "name": "python"
  },
  "orig_nbformat": 4
 },
 "nbformat": 4,
 "nbformat_minor": 2
}
