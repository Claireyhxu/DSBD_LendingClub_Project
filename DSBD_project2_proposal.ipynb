{
 "cells": [
  {
   "cell_type": "markdown",
   "metadata": {},
   "source": [
    "### **DSBD Project 2 Proposal**\n",
    "### **LendingClub Peer-to-Peer Lending Default Prediction**\n",
    "#### Team 14: Yunhan (Claire) Xu, Qiyang (Cathy) Chen"
   ]
  },
  {
   "cell_type": "markdown",
   "metadata": {},
   "source": [
    "Starting from 2015, the idea of Peer-to-Peer (P2P) lending emerged, which allowed individuals (borrowers) to obtain loans directly from other individuals (investors) through platforms such as Lending Club, Prosper, and Upstart. This kind of \"social lending\" became an alternative financing approach, cutting out the financial institution as the middleman. \n",
    "\n",
    "P2P lending enables investors to acquire a higher return on investment compared to a bank deposit. However, credit risk is one of the biggest concerns for investors when they make informed investment decisions within the P2P lending procedure. In particular, a default due to failing to make the required payment within the agreed date for a borrower would induce a loss for an investor. \n",
    "\n",
    "In this project, we plan to improve Lending Club's overall performance of identifying borrowers who are unlikely to fully pay their loans by constructing a credit risk assessment system. Specifically, we will build machine-learned classification models trained on [Lending Club's historical loan data](https://www.kaggle.com/ethon0426/lending-club-20072020q1). \n",
    "\n",
    "The domain of our project is as follows:\n",
    "- Performance Metric (P) - precision, recall\n",
    "- Task (T) - Classification task\n",
    "- Experience (E) - machine-learned classification models (SVM, logistic regression, random forest, etc.)\n",
    "\n",
    "Considering a classification task of identifying borrowers who are unlikely to fully pay their loans in Lending Club, we will train several machine-learned classification models, including SVM, logistic regression, and random forest, to perform the task and utilize precision as a performance metric to measure how well we complete the task.  "
   ]
  },
  {
   "cell_type": "markdown",
   "metadata": {},
   "source": [
    "### Data"
   ]
  },
  {
   "cell_type": "code",
   "execution_count": null,
   "metadata": {},
   "outputs": [],
   "source": []
  }
 ],
 "metadata": {
  "language_info": {
   "name": "python"
  },
  "orig_nbformat": 4
 },
 "nbformat": 4,
 "nbformat_minor": 2
}
