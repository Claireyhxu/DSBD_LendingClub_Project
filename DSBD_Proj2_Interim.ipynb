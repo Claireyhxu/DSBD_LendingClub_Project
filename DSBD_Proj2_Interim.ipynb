{
 "cells": [
  {
   "cell_type": "markdown",
   "metadata": {},
   "source": [
    "## DSBD Project 2 -- LendingClub Peer-to-Peer Lending Prediction\n",
    "### Intermediate Report"
   ]
  },
  {
   "cell_type": "markdown",
   "metadata": {},
   "source": [
    "#### Yunhan (Claire) Xu, Qiyang (Cathy) Chen"
   ]
  },
  {
   "cell_type": "markdown",
   "metadata": {},
   "source": [
    "Starting from 2015, the idea of Peer-to-Peer (P2P) lending emerged, which allows individuals (borrowers) to obtain loans directly from other individuals (investors) through platforms such as LendingClub, Prosper, and Upstart. This kind of \"social lending\" becomes an alternative financing approach, cutting out the financial institution as the middleman. P2P lending enables investors to acquire a higher return on investment compared to a bank deposit. However, credit risk, one of the biggest concerns for investors, emerges when they make informed investment decisions within the P2P lending procedure. In particular, a default due to failing to make the required payment within the agreed date for a borrower would induce a loss for an investor. \n",
    "\n",
    "In this project, we plan to develop a model that will predict whether a LendingClub-approved loan will end up being defaulted or not. The collected dataset includes loan grade, indicating the credit risk from the credit report and loan application. We plan to set the loan grade as the baseline and compare it with our model performance. In particular, we will draw a Precision-Recall Curve for the top 1%, 2%, 3%,..., 100% loans with default probability from high to low. We will also draw a Precision-Recall Curve for loan grade from A to G, and compare it with our models' Precision-Recall Curve. \n",
    "\n",
    "The domain of our project is as follows:\n",
    "- Task (T) - Classification task that predicts defualted loan \n",
    "- Performance Measure (P) \n",
    "    - Precision: among all the actually defaulted loans, how many of them did we successfully identified\n",
    "    - Recall: among all the loans that we predicted as default loans, how many of them actually defaulted\n",
    "    - F-1 Score: weighted average for precision and recall\n",
    "- Experience (E) - LendingClub database of loan records with loan status that we can use to label a loan as defaulted or not\n",
    "<!-- machine-learned classification models (SVM, logistic regression, decision trees, random forests, XGBoost, etc.) -->\n",
    "\n",
    "In sum, considering a classification task of identifying borrowers who are likely to make defaulted loans in LendingClub, we will train the LendingClub database of loan records without the pre-specified loan grades to perform the task and utilize precision, recall, and F-1 score as performance metrics to measure how well we complete the task.  "
   ]
  },
  {
   "cell_type": "markdown",
   "metadata": {},
   "source": [
    "## 1. Data"
   ]
  },
  {
   "cell_type": "markdown",
   "metadata": {},
   "source": [
    "The original data contains all the LendingClub loan data from 2007 to 2018, and the corresponding 151 features are related to borrowers' credit history and loan characteristics. We performed some basic data cleaning beforehand:\n",
    "- For the scoping purpose, we only focus on data from the latest four years, i.e., 2015-2018. \n",
    "- There are seven loan statuses: Charged Off, Current, Default, Fully Paid, In Grace Period, Late (16-30 days), Late (31-120 days). As we don't know whether a \"Current\" loan would be defaulted or not, we disregard those loans. We consider Late (16-30 days), Late (31-120 days), Default, and Charged Off as a Defaulted loan and Fully Paid as a desirable loan.\n",
    "\n",
    "### Columns we discarded\n",
    "- 100% missing values: `id`, `member_id`, `url`, `next_pymnt_d`\n",
    "- The same for all rows: `pymnt_plan`, `out_prncp`, `out_prncp_inv`, and `policy_code`\n",
    "- Updated in past 2 months -- wouldn't have these values at loan origination: `num_tl_120dpd_2m`, `num_tl_30dpd`, `last_fico_range_low`, and\n",
    "`last_fico_range_high`\n",
    "- Hardship-related variables, relating to borrowers who were on a hardship plan -- wouldn't know at the point of loan origination whether or not the borrower will have a hardship: `deferral_term`, `hardship_amount`, `hardship_dpd`, `hardship_end_date`, `hardship_flag`, `hardship_last_payment_amount`, `hardship_length`, `hardship_loan_status`, `hardship_payoff_balance_amount`, `hardship_reason`, `hardship_start_date`, `hardship_status`, `hardship_type`, `orig_projected_additional_accrued_interest`, `payment_plan_start_date`\n",
    "- String variables provided by borrowers. LendingClub categorized them into other variables: `desc`, `title`, and `emp_title`\n",
    "- Loan settlement/charged off related variables -- wouldn't know them at the time of funding: `debt_settlement_flag`, `debt_settlement_flag_date`, `settlement_amount`, `settlement_date`, `settlement_percentage`, `settlement_status`, `settlement_term`, `recoveries`, `collection_recovery_fee`\n",
    "- Loan payment related variables -- wouldn't know them at the time of funding: `funded_amnt`, `funded_amnt_inv`, `last_pymnt_amnt`, `out_prncp`, `out_prncp_inv`, `total_pymnt`, `total_pymnt_inv`, `total_rec_int`, `total_rec_late_fee`, `total_rec_prncp`, `last_pymnt_d`, `last_credit_pull_d`, `disbursement_method`\n",
    "- `initial_list_status`: as the values \"W' and \"F\" are randomly assigned\n",
    "- Columns relating to co-borrowers. These columns only have non-null values from issue dates of 2017-03-01 and later (or 2015-10-01 and later for 'dti_joint', 'annual_inc_joint', and 'verification_status_joint'), and have around 97% missing values, so we remove these columns: `annual_inc_joint`, `dti_joint`, `revol_bal_joint`, `sec_app_chargeoff_within_12_mths`, `sec_app_collections_12_mths_ex_med`, `sec_app_earliest_cr_line`, `sec_app_inq_last_6mths`, `sec_app_mort_acc`, `sec_app_mths_since_last_major_derog`, `sec_app_num_rev_accts`, `sec_app_open_acc`, `sec_app_open_act_il`, `sec_app_revol_util`, `verification_status_joint`, `sec_app_fico_range_low`, `sec_app_fico_range_high`\n",
    "- Other: `zip_code`"
   ]
  },
  {
   "cell_type": "code",
   "execution_count": 87,
   "metadata": {},
   "outputs": [],
   "source": [
    "import pandas as pd\n",
    "import numpy as np\n",
    "from sklearn.model_selection import train_test_split\n",
    "from sklearn.ensemble import RandomForestClassifier\n",
    "from sklearn.linear_model import LogisticRegression"
   ]
  },
  {
   "cell_type": "code",
   "execution_count": 72,
   "metadata": {},
   "outputs": [],
   "source": [
    "import matplotlib\n",
    "import datetime as dt\n",
    "import matplotlib.pyplot as plt\n",
    "import seaborn as sns\n",
    "import altair as alt\n",
    "sns.set(font_scale=1.5)\n",
    "sns.set_style('ticks')"
   ]
  },
  {
   "cell_type": "code",
   "execution_count": 4,
   "metadata": {},
   "outputs": [],
   "source": [
    "data = pd.read_csv('LC_15_18.csv').iloc[:, 1:]"
   ]
  },
  {
   "cell_type": "markdown",
   "metadata": {},
   "source": [
    "## 2. Data Cleaning"
   ]
  },
  {
   "cell_type": "code",
   "execution_count": 5,
   "metadata": {},
   "outputs": [],
   "source": [
    "# drop additional colmns\n",
    "data = data.drop(['last_fico_range_low', 'last_fico_range_high'], axis = 1)"
   ]
  },
  {
   "cell_type": "code",
   "execution_count": 6,
   "metadata": {},
   "outputs": [
    {
     "data": {
      "text/plain": [
       "(927931, 71)"
      ]
     },
     "execution_count": 6,
     "metadata": {},
     "output_type": "execute_result"
    }
   ],
   "source": [
    "# check number of rows and cols in the dataset\n",
    "data.shape"
   ]
  },
  {
   "cell_type": "code",
   "execution_count": 7,
   "metadata": {},
   "outputs": [],
   "source": [
    "# change data type\n",
    "data['issue_d'] = pd.to_datetime(data['issue_d'])\n",
    "data['earliest_cr_line'] = pd.to_datetime(data['earliest_cr_line'])"
   ]
  },
  {
   "cell_type": "code",
   "execution_count": 8,
   "metadata": {},
   "outputs": [
    {
     "data": {
      "text/html": [
       "<div>\n",
       "<style scoped>\n",
       "    .dataframe tbody tr th:only-of-type {\n",
       "        vertical-align: middle;\n",
       "    }\n",
       "\n",
       "    .dataframe tbody tr th {\n",
       "        vertical-align: top;\n",
       "    }\n",
       "\n",
       "    .dataframe thead th {\n",
       "        text-align: right;\n",
       "    }\n",
       "</style>\n",
       "<table border=\"1\" class=\"dataframe\">\n",
       "  <thead>\n",
       "    <tr style=\"text-align: right;\">\n",
       "      <th></th>\n",
       "      <th>Count_Missing</th>\n",
       "      <th>Pctg_Missing</th>\n",
       "    </tr>\n",
       "  </thead>\n",
       "  <tbody>\n",
       "    <tr>\n",
       "      <th>mths_since_last_record</th>\n",
       "      <td>753505</td>\n",
       "      <td>0.812027</td>\n",
       "    </tr>\n",
       "    <tr>\n",
       "      <th>mths_since_recent_bc_dlq</th>\n",
       "      <td>696123</td>\n",
       "      <td>0.750188</td>\n",
       "    </tr>\n",
       "    <tr>\n",
       "      <th>mths_since_last_major_derog</th>\n",
       "      <td>659938</td>\n",
       "      <td>0.711193</td>\n",
       "    </tr>\n",
       "    <tr>\n",
       "      <th>mths_since_recent_revol_delinq</th>\n",
       "      <td>600515</td>\n",
       "      <td>0.647155</td>\n",
       "    </tr>\n",
       "    <tr>\n",
       "      <th>mths_since_last_delinq</th>\n",
       "      <td>451425</td>\n",
       "      <td>0.486486</td>\n",
       "    </tr>\n",
       "  </tbody>\n",
       "</table>\n",
       "</div>"
      ],
      "text/plain": [
       "                                Count_Missing  Pctg_Missing\n",
       "mths_since_last_record                 753505      0.812027\n",
       "mths_since_recent_bc_dlq               696123      0.750188\n",
       "mths_since_last_major_derog            659938      0.711193\n",
       "mths_since_recent_revol_delinq         600515      0.647155\n",
       "mths_since_last_delinq                 451425      0.486486"
      ]
     },
     "execution_count": 8,
     "metadata": {},
     "output_type": "execute_result"
    }
   ],
   "source": [
    "# check missing values in the dataset\n",
    "def missing_values_table(data):\n",
    "    '''\n",
    "    generate a table that contains attributes and its corresponing number of missing values \n",
    "    and percentage of missing value\n",
    "    '''\n",
    "    #Number of null values by column\n",
    "    mv_df = pd.DataFrame(data.isna().sum(),columns=['Count_Missing'])\n",
    "    \n",
    "    #Portion of null values by column\n",
    "    mv_df['Pctg_Missing'] = mv_df['Count_Missing']/len(data)\n",
    "\n",
    "    #Sort by Missing_Count\n",
    "    mv_df = mv_df.sort_values('Count_Missing',ascending=False)  \n",
    "    \n",
    "    return mv_df\n",
    "\n",
    "mv_df = missing_values_table(data)\n",
    "\n",
    "mv_df.head()"
   ]
  },
  {
   "cell_type": "code",
   "execution_count": 9,
   "metadata": {},
   "outputs": [],
   "source": [
    "# Re-categorize emp_length into 4 categories\n",
    "def process_emp_len(d):\n",
    "    '''\n",
    "    re_categorize the employment length in years to reduce the categories\n",
    "    '''\n",
    "    df = d.copy()\n",
    "    # 0-1 years include null, < 1 year and 1 year\n",
    "    df['emp_length'] = df['emp_length'].fillna('0-1 years')\n",
    "    df['emp_length'] = np.where(df['emp_length'].isin([np.nan,None,'< 1 year','1 year']),'0-1 years',df['emp_length'])\n",
    "\n",
    "    # 2-5 years include 2 years, 3 years, 4 years and 5 years\n",
    "    df['emp_length'] = np.where(df['emp_length'].isin(['2 years','3 years','4 years', '5 years']),'2-5 years',df['emp_length'])\n",
    "\n",
    "    # 6-9 years include 6 years, 7 years, 8 years and 9 years\n",
    "    df['emp_length'] = np.where(df['emp_length'].isin(['6 years','7 years','8 years', '9 years']),'6-9 years',df['emp_length'])\n",
    "\n",
    "    return df\n",
    "\n",
    "\n",
    "# For missing values in columns that measure \"months since\": fill the nulls with maximum observed value +1\n",
    "def process_month_since_cols(d):\n",
    "    '''\n",
    "    fill the null values with the maximum observed value + 1 in 'month since' related columns, \n",
    "    the borrowers who have never had delinquencies will have the largest value for number of months \n",
    "    since delinquency.\n",
    "    '''\n",
    "    df = d.copy()\n",
    "\n",
    "    mon_since_cols = ['mo_sin_old_il_acct','mths_since_last_delinq','mths_since_last_major_derog',\n",
    "                     'mths_since_last_record','mths_since_recent_bc_dlq','mths_since_recent_inq',\n",
    "                     'mths_since_recent_revol_delinq','mo_sin_old_rev_tl_op','mths_since_recent_bc',\n",
    "                     'mo_sin_rcnt_rev_tl_op', 'mo_sin_rcnt_tl']\n",
    "\n",
    "    for i in mon_since_cols:\n",
    "        df[i].fillna(df[i].max()+1, inplace=True)\n",
    "    \n",
    "    return df\n",
    "\n",
    "\n",
    "# Change grade and sub_grade to numerical rankings (the lower the number, the less risky the loan)\n",
    "def process_loan_grades(d):\n",
    "    '''\n",
    "    turn loan grade and sub_grade into ordinal mapping\n",
    "    '''\n",
    "    df = d.copy()\n",
    "\n",
    "    # turn grade into ordinal mapping\n",
    "    sorted_grades = sorted(d.grade.unique())\n",
    "    grade_dict = dict(zip(sorted_grades, range(len(sorted_grades))))\n",
    "    df['grade'] = df['grade'].map(grade_dict)\n",
    "\n",
    "    # turn sub_grade into ordinal mapping\n",
    "    sorted_subgrades = sorted(d.sub_grade.unique())\n",
    "    subgrade_dict = dict(zip(sorted_subgrades, range(len(sorted_subgrades))))\n",
    "    df['sub_grade'] = df['sub_grade'].map(subgrade_dict)\n",
    "\n",
    "    return df\n",
    "\n",
    "\n",
    "# Process the above transformation and a few more transformations\n",
    "def process_loan_cols(d):\n",
    "    df_processed = process_emp_len(d)\n",
    "    df_processed = process_month_since_cols(df_processed)\n",
    "    df_processed = process_loan_grades(df_processed)\n",
    "    \n",
    "    # add `credit_line_length` by compute the difference between the month the borrower's earliest reported credit line was opened\n",
    "    # and the month which the loan was funded. Then discard the earliest_cr_line column.\n",
    "    df_processed['credit_line_length'] = df_processed['issue_d'] - df_processed['earliest_cr_line']\n",
    "    df_processed = df_processed.drop(['earliest_cr_line'], axis=1)\n",
    "\n",
    "    # process `revol_util`, `int_rate`, `credit_line_length`\n",
    "    df_processed['revol_util'] = df_processed['revol_util'].apply(lambda x: x/100)\n",
    "    df_processed['int_rate'] = df_processed['int_rate'].apply(lambda x: x/100)\n",
    "    df_processed['credit_line_length'] = df_processed['credit_line_length'].apply(lambda x: x.days)\n",
    "    \n",
    "    # generate `default` (binary variable, 0 means not defaulted, 1 means defaulted) and drop `loan_status`\n",
    "    df_processed['default'] = df_processed['loan_status'].map({'Fully Paid': 0, 'Charged Off': 1, 'Default': 1,\n",
    "                                                                  'In Grace Period': 1, 'Late (16-30 days)': 1, \n",
    "                                                                  'Late (31-120 days)': 1})\n",
    "    df_processed = df_processed.drop(columns='loan_status')\n",
    "    \n",
    "    return df_processed\n"
   ]
  },
  {
   "cell_type": "code",
   "execution_count": 10,
   "metadata": {},
   "outputs": [],
   "source": [
    "# create a new pre-process dataset\n",
    "data_new = process_loan_cols(data)"
   ]
  },
  {
   "cell_type": "code",
   "execution_count": 11,
   "metadata": {},
   "outputs": [],
   "source": [
    "# check missing values in new dataset\n",
    "mv_df = missing_values_table(data_new) # the greatest missing percentage of a feature is around 0.01\n",
    "\n",
    "# get the list of variables that have missing values\n",
    "mv_list = mv_df[mv_df['Count_Missing'] > 0].index.tolist() # all the variables that have missing values are float\n",
    "\n",
    "# impute these missing values with its median\n",
    "for var in mv_list:\n",
    "    data_new[var] = data_new[var].fillna((data_new[var].median()))"
   ]
  },
  {
   "cell_type": "code",
   "execution_count": 12,
   "metadata": {},
   "outputs": [
    {
     "data": {
      "text/plain": [
       "['term',\n",
       " 'emp_length',\n",
       " 'home_ownership',\n",
       " 'verification_status',\n",
       " 'purpose',\n",
       " 'addr_state',\n",
       " 'application_type',\n",
       " 'issue_month']"
      ]
     },
     "execution_count": 12,
     "metadata": {},
     "output_type": "execute_result"
    }
   ],
   "source": [
    "# check the data type for each attribute\n",
    "types_data = pd.DataFrame(data_new.dtypes, columns=['Types'])\n",
    "\n",
    "# check the categorical data\n",
    "cat_var = types_data[types_data['Types'] == 'object'].index.tolist()\n",
    "cat_var"
   ]
  },
  {
   "cell_type": "code",
   "execution_count": 13,
   "metadata": {},
   "outputs": [],
   "source": [
    "# create dummy variables for categorical variables\n",
    "data_new = pd.get_dummies(data_new, columns=cat_var, drop_first=True) "
   ]
  },
  {
   "cell_type": "markdown",
   "metadata": {},
   "source": [
    "## 3. Exploratory Data Analysis"
   ]
  },
  {
   "cell_type": "code",
   "execution_count": 14,
   "metadata": {},
   "outputs": [
    {
     "data": {
      "text/plain": [
       "default\n",
       "0    0.756728\n",
       "1    0.243272\n",
       "Name: default, dtype: float64"
      ]
     },
     "execution_count": 14,
     "metadata": {},
     "output_type": "execute_result"
    }
   ],
   "source": [
    "data_new.groupby('default')['default'].count()/len(data_new)"
   ]
  },
  {
   "cell_type": "markdown",
   "metadata": {},
   "source": [
    "75.67% of the loans are fully paid while 24.32% of the loans are defaulted."
   ]
  },
  {
   "cell_type": "markdown",
   "metadata": {},
   "source": [
    "Loan Amount distribution by the loan grade"
   ]
  },
  {
   "cell_type": "code",
   "execution_count": 88,
   "metadata": {},
   "outputs": [
    {
     "data": {
      "text/html": [
       "\n",
       "<div id=\"altair-viz-bd5b2c2b73bb429a99e8298c23b81850\"></div>\n",
       "<script type=\"text/javascript\">\n",
       "  (function(spec, embedOpt){\n",
       "    let outputDiv = document.currentScript.previousElementSibling;\n",
       "    if (outputDiv.id !== \"altair-viz-bd5b2c2b73bb429a99e8298c23b81850\") {\n",
       "      outputDiv = document.getElementById(\"altair-viz-bd5b2c2b73bb429a99e8298c23b81850\");\n",
       "    }\n",
       "    const paths = {\n",
       "      \"vega\": \"https://cdn.jsdelivr.net/npm//vega@5?noext\",\n",
       "      \"vega-lib\": \"https://cdn.jsdelivr.net/npm//vega-lib?noext\",\n",
       "      \"vega-lite\": \"https://cdn.jsdelivr.net/npm//vega-lite@4.8.1?noext\",\n",
       "      \"vega-embed\": \"https://cdn.jsdelivr.net/npm//vega-embed@6?noext\",\n",
       "    };\n",
       "\n",
       "    function loadScript(lib) {\n",
       "      return new Promise(function(resolve, reject) {\n",
       "        var s = document.createElement('script');\n",
       "        s.src = paths[lib];\n",
       "        s.async = true;\n",
       "        s.onload = () => resolve(paths[lib]);\n",
       "        s.onerror = () => reject(`Error loading script: ${paths[lib]}`);\n",
       "        document.getElementsByTagName(\"head\")[0].appendChild(s);\n",
       "      });\n",
       "    }\n",
       "\n",
       "    function showError(err) {\n",
       "      outputDiv.innerHTML = `<div class=\"error\" style=\"color:red;\">${err}</div>`;\n",
       "      throw err;\n",
       "    }\n",
       "\n",
       "    function displayChart(vegaEmbed) {\n",
       "      vegaEmbed(outputDiv, spec, embedOpt)\n",
       "        .catch(err => showError(`Javascript Error: ${err.message}<br>This usually means there's a typo in your chart specification. See the javascript console for the full traceback.`));\n",
       "    }\n",
       "\n",
       "    if(typeof define === \"function\" && define.amd) {\n",
       "      requirejs.config({paths});\n",
       "      require([\"vega-embed\"], displayChart, err => showError(`Error loading script: ${err.message}`));\n",
       "    } else if (typeof vegaEmbed === \"function\") {\n",
       "      displayChart(vegaEmbed);\n",
       "    } else {\n",
       "      loadScript(\"vega\")\n",
       "        .then(() => loadScript(\"vega-lite\"))\n",
       "        .then(() => loadScript(\"vega-embed\"))\n",
       "        .catch(showError)\n",
       "        .then(() => displayChart(vegaEmbed));\n",
       "    }\n",
       "  })({\"config\": {\"view\": {\"continuousWidth\": 400, \"continuousHeight\": 300}}, \"data\": {\"name\": \"data-2a801c8409ca4b525924dfcda72b52ce\"}, \"mark\": \"bar\", \"encoding\": {\"color\": {\"type\": \"nominal\", \"field\": \"grade\"}, \"x\": {\"type\": \"nominal\", \"field\": \"grade\", \"title\": \"Loan grade (higher value refers to a higher risk)\"}, \"y\": {\"type\": \"quantitative\", \"field\": \"loan_amnt\", \"title\": \"Average loan amount in dollars\"}}, \"height\": 400, \"title\": \"Lower (less risky) grades are associated with lower average loan amounts.\", \"width\": 500, \"$schema\": \"https://vega.github.io/schema/vega-lite/v4.8.1.json\", \"datasets\": {\"data-2a801c8409ca4b525924dfcda72b52ce\": [{\"grade\": 0, \"loan_amnt\": 14155.252508504967}, {\"grade\": 1, \"loan_amnt\": 13424.953135763248}, {\"grade\": 2, \"loan_amnt\": 14377.791700098556}, {\"grade\": 3, \"loan_amnt\": 15603.796303792624}, {\"grade\": 4, \"loan_amnt\": 17702.761691949392}, {\"grade\": 5, \"loan_amnt\": 19535.65847127556}, {\"grade\": 6, \"loan_amnt\": 20356.732832618025}]}}, {\"mode\": \"vega-lite\"});\n",
       "</script>"
      ],
      "text/plain": [
       "alt.Chart(...)"
      ]
     },
     "execution_count": 88,
     "metadata": {},
     "output_type": "execute_result"
    }
   ],
   "source": [
    "#Loan amount by grade\n",
    "group_loan = data_new.groupby('grade').mean()\n",
    "avg_loan = group_loan['loan_amnt'].reset_index()\n",
    "\n",
    "alt.Chart(avg_loan, title = 'Lower (less risky) grades are associated with lower average loan amounts.').mark_bar().encode(\n",
    "    alt.X('grade:N', title = 'Loan grade (higher value refers to a higher risk)'),\n",
    "    alt.Y('loan_amnt:Q', title = 'Average loan amount in dollars'),\n",
    "    color = 'grade:N'\n",
    ").properties(width = 500, height = 400)"
   ]
  },
  {
   "cell_type": "markdown",
   "metadata": {},
   "source": [
    "Default and fully paid loan distribution Date of Loan Issuance"
   ]
  },
  {
   "cell_type": "code",
   "execution_count": 89,
   "metadata": {},
   "outputs": [
    {
     "data": {
      "text/html": [
       "\n",
       "<div id=\"altair-viz-e133ec58dcd946fa8aa8879485df5628\"></div>\n",
       "<script type=\"text/javascript\">\n",
       "  (function(spec, embedOpt){\n",
       "    let outputDiv = document.currentScript.previousElementSibling;\n",
       "    if (outputDiv.id !== \"altair-viz-e133ec58dcd946fa8aa8879485df5628\") {\n",
       "      outputDiv = document.getElementById(\"altair-viz-e133ec58dcd946fa8aa8879485df5628\");\n",
       "    }\n",
       "    const paths = {\n",
       "      \"vega\": \"https://cdn.jsdelivr.net/npm//vega@5?noext\",\n",
       "      \"vega-lib\": \"https://cdn.jsdelivr.net/npm//vega-lib?noext\",\n",
       "      \"vega-lite\": \"https://cdn.jsdelivr.net/npm//vega-lite@4.8.1?noext\",\n",
       "      \"vega-embed\": \"https://cdn.jsdelivr.net/npm//vega-embed@6?noext\",\n",
       "    };\n",
       "\n",
       "    function loadScript(lib) {\n",
       "      return new Promise(function(resolve, reject) {\n",
       "        var s = document.createElement('script');\n",
       "        s.src = paths[lib];\n",
       "        s.async = true;\n",
       "        s.onload = () => resolve(paths[lib]);\n",
       "        s.onerror = () => reject(`Error loading script: ${paths[lib]}`);\n",
       "        document.getElementsByTagName(\"head\")[0].appendChild(s);\n",
       "      });\n",
       "    }\n",
       "\n",
       "    function showError(err) {\n",
       "      outputDiv.innerHTML = `<div class=\"error\" style=\"color:red;\">${err}</div>`;\n",
       "      throw err;\n",
       "    }\n",
       "\n",
       "    function displayChart(vegaEmbed) {\n",
       "      vegaEmbed(outputDiv, spec, embedOpt)\n",
       "        .catch(err => showError(`Javascript Error: ${err.message}<br>This usually means there's a typo in your chart specification. See the javascript console for the full traceback.`));\n",
       "    }\n",
       "\n",
       "    if(typeof define === \"function\" && define.amd) {\n",
       "      requirejs.config({paths});\n",
       "      require([\"vega-embed\"], displayChart, err => showError(`Error loading script: ${err.message}`));\n",
       "    } else if (typeof vegaEmbed === \"function\") {\n",
       "      displayChart(vegaEmbed);\n",
       "    } else {\n",
       "      loadScript(\"vega\")\n",
       "        .then(() => loadScript(\"vega-lite\"))\n",
       "        .then(() => loadScript(\"vega-embed\"))\n",
       "        .catch(showError)\n",
       "        .then(() => displayChart(vegaEmbed));\n",
       "    }\n",
       "  })({\"config\": {\"view\": {\"continuousWidth\": 400, \"continuousHeight\": 300}}, \"data\": {\"name\": \"data-69baa368f6b9fb27c32faf457e8f8fc5\"}, \"mark\": \"area\", \"encoding\": {\"color\": {\"type\": \"nominal\", \"field\": \"default\"}, \"x\": {\"type\": \"nominal\", \"field\": \"issue_d\", \"title\": \"Loan issue date\"}, \"y\": {\"type\": \"quantitative\", \"field\": \"count\", \"title\": \"Number of loan amount\"}}, \"height\": 400, \"title\": \"Number of loan amount had a spike in March, 2016 for both default and fully paid loan, but it started to decline since then.\", \"width\": 500, \"$schema\": \"https://vega.github.io/schema/vega-lite/v4.8.1.json\", \"datasets\": {\"data-69baa368f6b9fb27c32faf457e8f8fc5\": [{\"default\": 0, \"issue_d\": \"2015-01\", \"count\": 25758}, {\"default\": 0, \"issue_d\": \"2015-02\", \"count\": 17458}, {\"default\": 0, \"issue_d\": \"2015-03\", \"count\": 18152}, {\"default\": 0, \"issue_d\": \"2015-04\", \"count\": 25276}, {\"default\": 0, \"issue_d\": \"2015-05\", \"count\": 22829}, {\"default\": 0, \"issue_d\": \"2015-06\", \"count\": 20152}, {\"default\": 0, \"issue_d\": \"2015-07\", \"count\": 32753}, {\"default\": 0, \"issue_d\": \"2015-08\", \"count\": 25362}, {\"default\": 0, \"issue_d\": \"2015-09\", \"count\": 19970}, {\"default\": 0, \"issue_d\": \"2015-10\", \"count\": 34798}, {\"default\": 0, \"issue_d\": \"2015-11\", \"count\": 26368}, {\"default\": 0, \"issue_d\": \"2015-12\", \"count\": 30866}, {\"default\": 0, \"issue_d\": \"2016-01\", \"count\": 22935}, {\"default\": 0, \"issue_d\": \"2016-02\", \"count\": 27865}, {\"default\": 0, \"issue_d\": \"2016-03\", \"count\": 38343}, {\"default\": 0, \"issue_d\": \"2016-04\", \"count\": 17931}, {\"default\": 0, \"issue_d\": \"2016-05\", \"count\": 13369}, {\"default\": 0, \"issue_d\": \"2016-06\", \"count\": 15694}, {\"default\": 0, \"issue_d\": \"2016-07\", \"count\": 15943}, {\"default\": 0, \"issue_d\": \"2016-08\", \"count\": 16436}, {\"default\": 0, \"issue_d\": \"2016-09\", \"count\": 12706}, {\"default\": 0, \"issue_d\": \"2016-10\", \"count\": 14701}, {\"default\": 0, \"issue_d\": \"2016-11\", \"count\": 14386}, {\"default\": 0, \"issue_d\": \"2016-12\", \"count\": 14544}, {\"default\": 0, \"issue_d\": \"2017-01\", \"count\": 12675}, {\"default\": 0, \"issue_d\": \"2017-02\", \"count\": 10341}, {\"default\": 0, \"issue_d\": \"2017-03\", \"count\": 13107}, {\"default\": 0, \"issue_d\": \"2017-04\", \"count\": 9985}, {\"default\": 0, \"issue_d\": \"2017-05\", \"count\": 12285}, {\"default\": 0, \"issue_d\": \"2017-06\", \"count\": 11631}, {\"default\": 0, \"issue_d\": \"2017-07\", \"count\": 11358}, {\"default\": 0, \"issue_d\": \"2017-08\", \"count\": 11942}, {\"default\": 0, \"issue_d\": \"2017-09\", \"count\": 10056}, {\"default\": 0, \"issue_d\": \"2017-10\", \"count\": 9277}, {\"default\": 0, \"issue_d\": \"2017-11\", \"count\": 9580}, {\"default\": 0, \"issue_d\": \"2017-12\", \"count\": 7915}, {\"default\": 0, \"issue_d\": \"2018-01\", \"count\": 6926}, {\"default\": 0, \"issue_d\": \"2018-02\", \"count\": 5436}, {\"default\": 0, \"issue_d\": \"2018-03\", \"count\": 5781}, {\"default\": 0, \"issue_d\": \"2018-04\", \"count\": 5562}, {\"default\": 0, \"issue_d\": \"2018-05\", \"count\": 5429}, {\"default\": 0, \"issue_d\": \"2018-06\", \"count\": 4111}, {\"default\": 0, \"issue_d\": \"2018-07\", \"count\": 3787}, {\"default\": 0, \"issue_d\": \"2018-08\", \"count\": 3254}, {\"default\": 0, \"issue_d\": \"2018-09\", \"count\": 2250}, {\"default\": 0, \"issue_d\": \"2018-10\", \"count\": 2065}, {\"default\": 0, \"issue_d\": \"2018-11\", \"count\": 1608}, {\"default\": 0, \"issue_d\": \"2018-12\", \"count\": 1235}, {\"default\": 1, \"issue_d\": \"2015-01\", \"count\": 6570}, {\"default\": 1, \"issue_d\": \"2015-02\", \"count\": 4291}, {\"default\": 1, \"issue_d\": \"2015-03\", \"count\": 4894}, {\"default\": 1, \"issue_d\": \"2015-04\", \"count\": 6664}, {\"default\": 1, \"issue_d\": \"2015-05\", \"count\": 6019}, {\"default\": 1, \"issue_d\": \"2015-06\", \"count\": 5457}, {\"default\": 1, \"issue_d\": \"2015-07\", \"count\": 8523}, {\"default\": 1, \"issue_d\": \"2015-08\", \"count\": 6537}, {\"default\": 1, \"issue_d\": \"2015-09\", \"count\": 5359}, {\"default\": 1, \"issue_d\": \"2015-10\", \"count\": 8464}, {\"default\": 1, \"issue_d\": \"2015-11\", \"count\": 6770}, {\"default\": 1, \"issue_d\": \"2015-12\", \"count\": 8506}, {\"default\": 1, \"issue_d\": \"2016-01\", \"count\": 5765}, {\"default\": 1, \"issue_d\": \"2016-02\", \"count\": 7165}, {\"default\": 1, \"issue_d\": \"2016-03\", \"count\": 11478}, {\"default\": 1, \"issue_d\": \"2016-04\", \"count\": 6715}, {\"default\": 1, \"issue_d\": \"2016-05\", \"count\": 5182}, {\"default\": 1, \"issue_d\": \"2016-06\", \"count\": 5572}, {\"default\": 1, \"issue_d\": \"2016-07\", \"count\": 6394}, {\"default\": 1, \"issue_d\": \"2016-08\", \"count\": 6533}, {\"default\": 1, \"issue_d\": \"2016-09\", \"count\": 4719}, {\"default\": 1, \"issue_d\": \"2016-10\", \"count\": 4912}, {\"default\": 1, \"issue_d\": \"2016-11\", \"count\": 5370}, {\"default\": 1, \"issue_d\": \"2016-12\", \"count\": 5688}, {\"default\": 1, \"issue_d\": \"2017-01\", \"count\": 4481}, {\"default\": 1, \"issue_d\": \"2017-02\", \"count\": 3825}, {\"default\": 1, \"issue_d\": \"2017-03\", \"count\": 4778}, {\"default\": 1, \"issue_d\": \"2017-04\", \"count\": 3902}, {\"default\": 1, \"issue_d\": \"2017-05\", \"count\": 4848}, {\"default\": 1, \"issue_d\": \"2017-06\", \"count\": 4599}, {\"default\": 1, \"issue_d\": \"2017-07\", \"count\": 4738}, {\"default\": 1, \"issue_d\": \"2017-08\", \"count\": 4847}, {\"default\": 1, \"issue_d\": \"2017-09\", \"count\": 4629}, {\"default\": 1, \"issue_d\": \"2017-10\", \"count\": 3851}, {\"default\": 1, \"issue_d\": \"2017-11\", \"count\": 3764}, {\"default\": 1, \"issue_d\": \"2017-12\", \"count\": 3314}, {\"default\": 1, \"issue_d\": \"2018-01\", \"count\": 2715}, {\"default\": 1, \"issue_d\": \"2018-02\", \"count\": 2328}, {\"default\": 1, \"issue_d\": \"2018-03\", \"count\": 2553}, {\"default\": 1, \"issue_d\": \"2018-04\", \"count\": 2733}, {\"default\": 1, \"issue_d\": \"2018-05\", \"count\": 2633}, {\"default\": 1, \"issue_d\": \"2018-06\", \"count\": 1938}, {\"default\": 1, \"issue_d\": \"2018-07\", \"count\": 1642}, {\"default\": 1, \"issue_d\": \"2018-08\", \"count\": 1277}, {\"default\": 1, \"issue_d\": \"2018-09\", \"count\": 970}, {\"default\": 1, \"issue_d\": \"2018-10\", \"count\": 883}, {\"default\": 1, \"issue_d\": \"2018-11\", \"count\": 586}, {\"default\": 1, \"issue_d\": \"2018-12\", \"count\": 359}]}}, {\"mode\": \"vega-lite\"});\n",
       "</script>"
      ],
      "text/plain": [
       "alt.Chart(...)"
      ]
     },
     "execution_count": 89,
     "metadata": {},
     "output_type": "execute_result"
    }
   ],
   "source": [
    "#Default and fully paid loan count by Date of Loan Issuance\n",
    "count_loan = data_new.groupby(['default', 'issue_d']).size()\n",
    "count_loan = count_loan.reset_index().rename(columns = {0: 'count'})\n",
    "count_loan['issue_d'] = count_loan['issue_d'].dt.strftime('%Y-%m')\n",
    "\n",
    "alt.Chart(count_loan, \n",
    "    title = 'Number of loan amount had a spike in March, 2016 for both default and fully paid loan, but it started to decline since then.')\\\n",
    "    .mark_area().encode(\n",
    "    alt.X('issue_d:N', title = 'Loan issue date'),\n",
    "    alt.Y('count:Q', title = 'Number of loan amount'),\n",
    "    color = 'default:N'\n",
    "    # tooltip = ['issue_d:N', 'count:Q']\n",
    ").properties(width = 500, height = 400)\n"
   ]
  },
  {
   "cell_type": "markdown",
   "metadata": {},
   "source": [
    "### Feature Importance"
   ]
  },
  {
   "cell_type": "markdown",
   "metadata": {},
   "source": [
    "Since there are more than 100 variables, we would like to first get a sense of which features are the most predictive by training a simple Random Forest Classifier and looking at the feature importance plot."
   ]
  },
  {
   "cell_type": "code",
   "execution_count": 15,
   "metadata": {},
   "outputs": [],
   "source": [
    "# When training the model, we need to first discard some columns:\n",
    "# 'issue_d' has the date data type, which cannot be used in the rf model\n",
    "# 'grade', 'sub_grade', and 'int_rate' are determined by loans' and borrowers' features and are directly associated with default risk\n",
    "rf_data = data_new.drop(columns= ['issue_d', 'grade', 'sub_grade', 'int_rate'])\n",
    "data_train, data_val = train_test_split(rf_data, test_size=.1, stratify=rf_data['default'], random_state=99)\n",
    "\n",
    "X_train = data_train.drop(columns='default')\n",
    "y_train = data_train['default']\n",
    "\n",
    "X_val = data_val.drop(columns='default')\n",
    "y_val = data_val['default']"
   ]
  },
  {
   "cell_type": "code",
   "execution_count": 16,
   "metadata": {},
   "outputs": [],
   "source": [
    "rf_model = RandomForestClassifier(n_estimators=100, max_depth=None).fit(X_train, y_train)\n",
    "\n",
    "importances = pd.DataFrame({'Columns':X_train.columns,'Feature_Importances':rf_model.feature_importances_})\n",
    "importances = importances.sort_values(by='Feature_Importances',ascending=False)"
   ]
  },
  {
   "cell_type": "code",
   "execution_count": 17,
   "metadata": {},
   "outputs": [
    {
     "data": {
      "text/html": [
       "<div>\n",
       "<style scoped>\n",
       "    .dataframe tbody tr th:only-of-type {\n",
       "        vertical-align: middle;\n",
       "    }\n",
       "\n",
       "    .dataframe tbody tr th {\n",
       "        vertical-align: top;\n",
       "    }\n",
       "\n",
       "    .dataframe thead th {\n",
       "        text-align: right;\n",
       "    }\n",
       "</style>\n",
       "<table border=\"1\" class=\"dataframe\">\n",
       "  <thead>\n",
       "    <tr style=\"text-align: right;\">\n",
       "      <th></th>\n",
       "      <th>Columns</th>\n",
       "      <th>Feature_Importances</th>\n",
       "    </tr>\n",
       "  </thead>\n",
       "  <tbody>\n",
       "    <tr>\n",
       "      <th>3</th>\n",
       "      <td>dti</td>\n",
       "      <td>0.030966</td>\n",
       "    </tr>\n",
       "    <tr>\n",
       "      <th>1</th>\n",
       "      <td>installment</td>\n",
       "      <td>0.030238</td>\n",
       "    </tr>\n",
       "    <tr>\n",
       "      <th>58</th>\n",
       "      <td>term_ 60 months</td>\n",
       "      <td>0.028524</td>\n",
       "    </tr>\n",
       "    <tr>\n",
       "      <th>23</th>\n",
       "      <td>bc_open_to_buy</td>\n",
       "      <td>0.025629</td>\n",
       "    </tr>\n",
       "    <tr>\n",
       "      <th>28</th>\n",
       "      <td>mo_sin_old_rev_tl_op</td>\n",
       "      <td>0.025026</td>\n",
       "    </tr>\n",
       "    <tr>\n",
       "      <th>52</th>\n",
       "      <td>tot_hi_cred_lim</td>\n",
       "      <td>0.025022</td>\n",
       "    </tr>\n",
       "    <tr>\n",
       "      <th>22</th>\n",
       "      <td>avg_cur_bal</td>\n",
       "      <td>0.024864</td>\n",
       "    </tr>\n",
       "    <tr>\n",
       "      <th>0</th>\n",
       "      <td>loan_amnt</td>\n",
       "      <td>0.024764</td>\n",
       "    </tr>\n",
       "    <tr>\n",
       "      <th>2</th>\n",
       "      <td>annual_inc</td>\n",
       "      <td>0.024655</td>\n",
       "    </tr>\n",
       "    <tr>\n",
       "      <th>54</th>\n",
       "      <td>total_bc_limit</td>\n",
       "      <td>0.024128</td>\n",
       "    </tr>\n",
       "    <tr>\n",
       "      <th>57</th>\n",
       "      <td>credit_line_length</td>\n",
       "      <td>0.024070</td>\n",
       "    </tr>\n",
       "    <tr>\n",
       "      <th>20</th>\n",
       "      <td>total_rev_hi_lim</td>\n",
       "      <td>0.023979</td>\n",
       "    </tr>\n",
       "    <tr>\n",
       "      <th>13</th>\n",
       "      <td>revol_util</td>\n",
       "      <td>0.023693</td>\n",
       "    </tr>\n",
       "    <tr>\n",
       "      <th>24</th>\n",
       "      <td>bc_util</td>\n",
       "      <td>0.023672</td>\n",
       "    </tr>\n",
       "    <tr>\n",
       "      <th>27</th>\n",
       "      <td>mo_sin_old_il_acct</td>\n",
       "      <td>0.023604</td>\n",
       "    </tr>\n",
       "  </tbody>\n",
       "</table>\n",
       "</div>"
      ],
      "text/plain": [
       "                 Columns  Feature_Importances\n",
       "3                    dti             0.030966\n",
       "1            installment             0.030238\n",
       "58       term_ 60 months             0.028524\n",
       "23        bc_open_to_buy             0.025629\n",
       "28  mo_sin_old_rev_tl_op             0.025026\n",
       "52       tot_hi_cred_lim             0.025022\n",
       "22           avg_cur_bal             0.024864\n",
       "0              loan_amnt             0.024764\n",
       "2             annual_inc             0.024655\n",
       "54        total_bc_limit             0.024128\n",
       "57    credit_line_length             0.024070\n",
       "20      total_rev_hi_lim             0.023979\n",
       "13            revol_util             0.023693\n",
       "24               bc_util             0.023672\n",
       "27    mo_sin_old_il_acct             0.023604"
      ]
     },
     "execution_count": 17,
     "metadata": {},
     "output_type": "execute_result"
    }
   ],
   "source": [
    "importances.head(15)"
   ]
  },
  {
   "cell_type": "markdown",
   "metadata": {},
   "source": [
    "The 15 most important predictors are:\n",
    "- `dti`: A ratio calculated using the borrower’s total monthly debt payments on the total debt obligations, excluding mortgage and the requested LC loan, divided by the borrower’s self-reported monthly income.\n",
    "- `installment`: The monthly payment owed by the borrower if the loan originates.\n",
    "- `term`: The number of payments on the loan. Values are in months and can be either 36 or 60.\n",
    "- `bc_open_to_buy`: Total open to buy on revolving bankcards.\n",
    "- `loan_amnt`\n",
    "- `mo_sin_old_rev_tl_op`: Months since oldest revolving account opened.\n",
    "- `tot_hi_cred_lim`: Total high credit/credit limit.\n",
    "- `avg_cur_bal`: Average current balance of all accounts.\n",
    "- `annual_inc`: The self-reported annual income provided by the borrower during registration.\n",
    "- `total_rev_hi_lim`: Total revolving high credit/credit limit.\n",
    "- `credit_line_length`: The difference between the month the borrower's earliest reported credit line was opened and the month which the loan was funded.\n",
    "- `total_bc_limit`: Total bankcard high credit/credit limit.\n",
    "- `bc_util`: Ratio of total current balance to high credit/credit limit for all bankcard accounts.\n",
    "- `mo_sin_old_il_acct`: Months since oldest bank installment account opened\n",
    "- `revol_util`: Revolving line utilization rate, or the amount of credit the borrower is using relative to all available revolving credit.\n",
    "\n",
    "Let's do some EDA on these 15 predictors."
   ]
  },
  {
   "cell_type": "code",
   "execution_count": 18,
   "metadata": {},
   "outputs": [
    {
     "data": {
      "image/png": "[encoded data removed]",
      "text/plain": [
       "<Figure size 360x576 with 1 Axes>"
      ]
     },
     "metadata": {},
     "output_type": "display_data"
    }
   ],
   "source": [
    "fig, ax = plt.subplots(figsize=(5,8))\n",
    "ax = sns.barplot(x=importances['Feature_Importances'].head(15), y=importances['Columns'].head(15))\n",
    "sns.despine()"
   ]
  },
  {
   "cell_type": "code",
   "execution_count": 29,
   "metadata": {},
   "outputs": [
    {
     "data": {
      "text/html": [
       "<div>\n",
       "<style scoped>\n",
       "    .dataframe tbody tr th:only-of-type {\n",
       "        vertical-align: middle;\n",
       "    }\n",
       "\n",
       "    .dataframe tbody tr th {\n",
       "        vertical-align: top;\n",
       "    }\n",
       "\n",
       "    .dataframe thead th {\n",
       "        text-align: right;\n",
       "    }\n",
       "</style>\n",
       "<table border=\"1\" class=\"dataframe\">\n",
       "  <thead>\n",
       "    <tr style=\"text-align: right;\">\n",
       "      <th></th>\n",
       "      <th>term_ 60 months</th>\n",
       "      <th>installment</th>\n",
       "      <th>loan_amnt</th>\n",
       "    </tr>\n",
       "    <tr>\n",
       "      <th>default</th>\n",
       "      <th></th>\n",
       "      <th></th>\n",
       "      <th></th>\n",
       "    </tr>\n",
       "  </thead>\n",
       "  <tbody>\n",
       "    <tr>\n",
       "      <th>0</th>\n",
       "      <td>0.194299</td>\n",
       "      <td>364.70</td>\n",
       "      <td>12000.0</td>\n",
       "    </tr>\n",
       "    <tr>\n",
       "      <th>1</th>\n",
       "      <td>0.382887</td>\n",
       "      <td>408.22</td>\n",
       "      <td>14725.0</td>\n",
       "    </tr>\n",
       "  </tbody>\n",
       "</table>\n",
       "</div>"
      ],
      "text/plain": [
       "         term_ 60 months  installment  loan_amnt\n",
       "default                                         \n",
       "0               0.194299       364.70    12000.0\n",
       "1               0.382887       408.22    14725.0"
      ]
     },
     "execution_count": 29,
     "metadata": {},
     "output_type": "execute_result"
    }
   ],
   "source": [
    "# change the 'term_ 60 months' variable to float to compute mean\n",
    "data_new['term_ 60 months'] = data_new['term_ 60 months'].astype(np.float64)\n",
    "\n",
    "# Predictors related to loans\n",
    "data_new.groupby('default').agg({\n",
    "                'term_ 60 months': 'mean',\n",
    "                'installment': 'median',\n",
    "                'loan_amnt': 'median'\n",
    "})"
   ]
  },
  {
   "cell_type": "markdown",
   "metadata": {},
   "source": [
    "`term` is the number of payments on the loan. Values are in months and can be either 36 or 60. 38.29% of the defaulted loans are 60-months while only 19.43% of the fully paid loans are 60-months. \n",
    "\n",
    "Defaulted loans have a higher monthly payment owed by the borrower if the loan originates and a higher loan amount."
   ]
  },
  {
   "cell_type": "code",
   "execution_count": 20,
   "metadata": {},
   "outputs": [],
   "source": [
    "# change the 'term_ 60 months' variable back to uint8 data type\n",
    "data_new['term_ 60 months'] = data_new['term_ 60 months'].astype(np.uint8)"
   ]
  },
  {
   "cell_type": "code",
   "execution_count": 24,
   "metadata": {},
   "outputs": [
    {
     "data": {
      "text/html": [
       "<div>\n",
       "<style scoped>\n",
       "    .dataframe tbody tr th:only-of-type {\n",
       "        vertical-align: middle;\n",
       "    }\n",
       "\n",
       "    .dataframe tbody tr th {\n",
       "        vertical-align: top;\n",
       "    }\n",
       "\n",
       "    .dataframe thead th {\n",
       "        text-align: right;\n",
       "    }\n",
       "</style>\n",
       "<table border=\"1\" class=\"dataframe\">\n",
       "  <thead>\n",
       "    <tr style=\"text-align: right;\">\n",
       "      <th></th>\n",
       "      <th>dti</th>\n",
       "      <th>bc_open_to_buy</th>\n",
       "      <th>mo_sin_old_rev_tl_op</th>\n",
       "      <th>tot_hi_cred_lim</th>\n",
       "      <th>avg_cur_bal</th>\n",
       "      <th>annual_inc</th>\n",
       "      <th>total_rev_hi_lim</th>\n",
       "      <th>credit_line_length</th>\n",
       "      <th>total_bc_limit</th>\n",
       "      <th>bc_util</th>\n",
       "      <th>mo_sin_old_il_acct</th>\n",
       "      <th>revol_util</th>\n",
       "    </tr>\n",
       "    <tr>\n",
       "      <th>default</th>\n",
       "      <th></th>\n",
       "      <th></th>\n",
       "      <th></th>\n",
       "      <th></th>\n",
       "      <th></th>\n",
       "      <th></th>\n",
       "      <th></th>\n",
       "      <th></th>\n",
       "      <th></th>\n",
       "      <th></th>\n",
       "      <th></th>\n",
       "      <th></th>\n",
       "    </tr>\n",
       "  </thead>\n",
       "  <tbody>\n",
       "    <tr>\n",
       "      <th>0</th>\n",
       "      <td>17.50</td>\n",
       "      <td>5636.0</td>\n",
       "      <td>167.0</td>\n",
       "      <td>123653.0</td>\n",
       "      <td>8037.0</td>\n",
       "      <td>67000.0</td>\n",
       "      <td>25500.0</td>\n",
       "      <td>5508.0</td>\n",
       "      <td>16200.0</td>\n",
       "      <td>58.5</td>\n",
       "      <td>131.0</td>\n",
       "      <td>0.483</td>\n",
       "    </tr>\n",
       "    <tr>\n",
       "      <th>1</th>\n",
       "      <td>20.07</td>\n",
       "      <td>4177.5</td>\n",
       "      <td>153.0</td>\n",
       "      <td>89510.0</td>\n",
       "      <td>5769.0</td>\n",
       "      <td>62000.0</td>\n",
       "      <td>22600.0</td>\n",
       "      <td>5233.0</td>\n",
       "      <td>13600.0</td>\n",
       "      <td>64.0</td>\n",
       "      <td>128.0</td>\n",
       "      <td>0.529</td>\n",
       "    </tr>\n",
       "  </tbody>\n",
       "</table>\n",
       "</div>"
      ],
      "text/plain": [
       "           dti  bc_open_to_buy  mo_sin_old_rev_tl_op  tot_hi_cred_lim  \\\n",
       "default                                                                 \n",
       "0        17.50          5636.0                 167.0         123653.0   \n",
       "1        20.07          4177.5                 153.0          89510.0   \n",
       "\n",
       "         avg_cur_bal  annual_inc  total_rev_hi_lim  credit_line_length  \\\n",
       "default                                                                  \n",
       "0             8037.0     67000.0           25500.0              5508.0   \n",
       "1             5769.0     62000.0           22600.0              5233.0   \n",
       "\n",
       "         total_bc_limit  bc_util  mo_sin_old_il_acct  revol_util  \n",
       "default                                                           \n",
       "0               16200.0     58.5               131.0       0.483  \n",
       "1               13600.0     64.0               128.0       0.529  "
      ]
     },
     "execution_count": 24,
     "metadata": {},
     "output_type": "execute_result"
    }
   ],
   "source": [
    "# Predictors related to borrowers' financials\n",
    "data_new.groupby('default').agg({\n",
    "    'dti': 'median',\n",
    "    'bc_open_to_buy': 'median',\n",
    "    'mo_sin_old_rev_tl_op': 'median',\n",
    "    'tot_hi_cred_lim': 'median',\n",
    "    'avg_cur_bal': 'median',\n",
    "    'annual_inc': 'median',\n",
    "    'total_rev_hi_lim': 'median',\n",
    "    'credit_line_length': 'median',\n",
    "    'total_bc_limit': 'median',\n",
    "    'bc_util': 'median',\n",
    "    'mo_sin_old_il_acct': 'median',\n",
    "    'revol_util': 'median'\n",
    "})"
   ]
  },
  {
   "cell_type": "markdown",
   "metadata": {},
   "source": [
    "Borrowers of **defaulted** loans have:\n",
    "- higher `dti`: debt to income ratio\n",
    "- lower `bc_open_to_buy`: total open to buy on revolving bankcards\n",
    "- less `mo_sin_old_rev_tl_op`: months since oldest revolving account opened\n",
    "- lower `tot_hi_cred_lim`: total high credit/credit limit\n",
    "- lower `avg_cur_bal`: average current balance of all accounts\n",
    "- lower `annual_inc`: annual income\n",
    "- lower `total_rev_hi_lim`: total revolving high credit/credit limit\n",
    "- less `credit_line_length`: months between the borrower's earliest reported credit line was opened and the loan was funded\n",
    "- lower `total_bc_limit`: total bankcard high credit/credit limit\n",
    "- lower `bc_util`: ratil of total current balance to high credit/credit limit for all bankcard accounts\n",
    "- less `mo_sin_old_il_acct`: months since oldest bank installment account opened\n",
    "- lower `revol_util`: revolving line utilization rate, or the amount of credit the borrower is using relative to all available revolving credit than borrowers of **fully paid** loans."
   ]
  },
  {
   "cell_type": "markdown",
   "metadata": {},
   "source": [
    "## 4. Models"
   ]
  },
  {
   "cell_type": "markdown",
   "metadata": {},
   "source": [
    "### Prepare train and test data"
   ]
  },
  {
   "cell_type": "markdown",
   "metadata": {},
   "source": [
    "We have data from 2015 to 2018. We may use data from 2015 to 2017 as train data and data from 2018 as test data. This could be a reasonable method of splitting because we want to use past data to train the model and predict the existing loans. Let's first take a look at the size of the data each year."
   ]
  },
  {
   "cell_type": "code",
   "execution_count": 25,
   "metadata": {},
   "outputs": [
    {
     "data": {
      "text/plain": [
       "issue_year\n",
       "2015.0    0.407138\n",
       "2016.0    0.323673\n",
       "2017.0    0.195842\n",
       "2018.0    0.073347\n",
       "dtype: float64"
      ]
     },
     "execution_count": 25,
     "metadata": {},
     "output_type": "execute_result"
    }
   ],
   "source": [
    "data_new.groupby('issue_year').size()/len(data_new)"
   ]
  },
  {
   "cell_type": "markdown",
   "metadata": {},
   "source": [
    "As we typically use 20% of the data as test data, we select data from the second half of 2017 and 2018 as test data. "
   ]
  },
  {
   "cell_type": "code",
   "execution_count": 26,
   "metadata": {},
   "outputs": [],
   "source": [
    "# Prepare train data\n",
    "train_data = data_new[data_new.issue_d < \"2017-07-01\"]\n",
    "\n",
    "# Prepare test data\n",
    "test_data = data_new[data_new.issue_d >= \"2017-07-01\"]"
   ]
  },
  {
   "cell_type": "code",
   "execution_count": 27,
   "metadata": {},
   "outputs": [
    {
     "name": "stdout",
     "output_type": "stream",
     "text": [
      "The size of train data is: 774599 , which is 0.83 of the whole data set \n",
      "The size of the test data is: 153332 , which is 0.17 of the whole data set\n"
     ]
    }
   ],
   "source": [
    "# Check the size of train and test data\n",
    "print('The size of train data is:', len(train_data), ', which is', round(len(train_data)/len(data_new), 2), 'of the whole data set', '\\n'\n",
    "'The size of the test data is:', len(test_data), ', which is', round(len(test_data)/len(data_new), 2), 'of the whole data set')"
   ]
  },
  {
   "cell_type": "markdown",
   "metadata": {},
   "source": [
    "### 4-1. Logistic Regression (Cathy)"
   ]
  },
  {
   "cell_type": "code",
   "execution_count": null,
   "metadata": {},
   "outputs": [],
   "source": [
    "X_train = train_data.drop(columns='default')\n",
    "y_train = train_data['default']\n",
    "\n",
    "X_test = test_data.drop(columns='default')\n",
    "y_test = test_data['default']"
   ]
  },
  {
   "cell_type": "code",
   "execution_count": null,
   "metadata": {},
   "outputs": [],
   "source": []
  },
  {
   "cell_type": "code",
   "execution_count": null,
   "metadata": {},
   "outputs": [],
   "source": []
  },
  {
   "cell_type": "code",
   "execution_count": null,
   "metadata": {},
   "outputs": [],
   "source": []
  },
  {
   "cell_type": "code",
   "execution_count": null,
   "metadata": {},
   "outputs": [],
   "source": []
  },
  {
   "cell_type": "markdown",
   "metadata": {},
   "source": [
    "### 4-2. Decision Trees"
   ]
  },
  {
   "cell_type": "code",
   "execution_count": null,
   "metadata": {},
   "outputs": [],
   "source": []
  }
 ],
 "metadata": {
  "interpreter": {
   "hash": "bd192022b31092694831ab0308713f609d16b6fcd53b410f5770d1242282f72a"
  },
  "kernelspec": {
   "display_name": "Python 3.8.10 64-bit (windows store)",
   "language": "python",
   "name": "python3"
  },
  "language_info": {
   "codemirror_mode": {
    "name": "ipython",
    "version": 3
   },
   "file_extension": ".py",
   "mimetype": "text/x-python",
   "name": "python",
   "nbconvert_exporter": "python",
   "pygments_lexer": "ipython3",
   "version": "3.8.11"
  },
  "orig_nbformat": 4
 },
 "nbformat": 4,
 "nbformat_minor": 2
}
